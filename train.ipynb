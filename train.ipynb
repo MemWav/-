{
 "cells": [
  {
   "cell_type": "code",
   "execution_count": null,
   "id": "317be135",
   "metadata": {},
   "outputs": [
    {
     "name": "stdout",
     "output_type": "stream",
     "text": [
      "Using device: cuda\n"
     ]
    }
   ],
   "source": [
    "import torch\n",
    "import torch.nn as nn\n",
    "import torch.optim as optim\n",
    "from torch.utils.data import DataLoader, random_split\n",
    "from torchvision import transforms\n",
    "from tqdm import tqdm\n",
    "import os\n",
    "\n",
    "from config import TRAIN_JSON_DIR, TRAIN_IMG_DIR, BATCH_SIZE, LR, EPOCHS, DEVICE, CHECKPOINT_DIR\n",
    "from dataset import PlantDataset, train_transform, val_transform\n",
    "from model.efficientnet import MultiTaskEfficientNet"
   ]
  },
  {
   "cell_type": "code",
   "execution_count": 2,
   "id": "41fa70eb",
   "metadata": {},
   "outputs": [],
   "source": [
    "# ── 체크포인트 디렉토리 ─────────────────────────────────────\n",
    "os.makedirs(CHECKPOINT_DIR, exist_ok=True)"
   ]
  },
  {
   "cell_type": "code",
   "execution_count": null,
   "id": "bc0a2cb9",
   "metadata": {},
   "outputs": [],
   "source": [
    "# ── 데이터로더 생성 ─────────────────────────────────────────\n",
    "dataset = PlantDataset(TRAIN_JSON_DIR, TRAIN_IMG_DIR, transform=train_transform)\n",
    "n_val   = int(len(dataset) * 0.2)\n",
    "n_trn   = len(dataset) - n_val\n",
    "train_ds, val_ds = random_split(dataset, [n_trn, n_val])\n",
    "\n",
    "train_loader = DataLoader(train_ds, batch_size=BATCH_SIZE, shuffle=True,  num_workers=0)\n",
    "val_loader   = DataLoader(val_ds,   batch_size=BATCH_SIZE, shuffle=False, num_workers=0)"
   ]
  },
  {
   "cell_type": "code",
   "execution_count": 5,
   "id": "18234942",
   "metadata": {},
   "outputs": [
    {
     "name": "stdout",
     "output_type": "stream",
     "text": [
      "Loaded pretrained weights for efficientnet-b0\n"
     ]
    }
   ],
   "source": [
    "# ── 모델·옵티마이저·손실 함수·스케쥴러 설정 ─────────────────────────────────\n",
    "model     = MultiTaskEfficientNet().to(DEVICE)\n",
    "criterion = nn.CrossEntropyLoss()\n",
    "optimizer = optim.Adam(model.parameters(), lr=LR)\n",
    "scheduler = optim.lr_scheduler.StepLR(optimizer, step_size=5, gamma=0.5)"
   ]
  },
  {
   "cell_type": "code",
   "execution_count": 6,
   "id": "1c49c2f3",
   "metadata": {},
   "outputs": [
    {
     "name": "stderr",
     "output_type": "stream",
     "text": [
      "[Train Epoch 1]: 100%|██████████| 349/349 [01:49<00:00,  3.18it/s]\n"
     ]
    },
    {
     "name": "stdout",
     "output_type": "stream",
     "text": [
      "Epoch 01 ▶ [Train] Loss: 0.5890, 질병Acc: 0.9357, 생장Acc: 0.9553\n",
      "[Val] 질병 Acc: 0.9810, 생장 Acc: 0.9896\n",
      "Saved new best model ▶ /home/kyun/25s/Capstone_EE/plantmate/checkpoints/best_epoch01_acc0.9853.pth\n",
      "\n"
     ]
    },
    {
     "name": "stderr",
     "output_type": "stream",
     "text": [
      "[Train Epoch 2]: 100%|██████████| 349/349 [01:33<00:00,  3.72it/s]\n"
     ]
    },
    {
     "name": "stdout",
     "output_type": "stream",
     "text": [
      "Epoch 02 ▶ [Train] Loss: 0.0955, 질병Acc: 0.9814, 생장Acc: 0.9909\n",
      "[Val] 질병 Acc: 0.9871, 생장 Acc: 0.9917\n",
      "Saved new best model ▶ /home/kyun/25s/Capstone_EE/plantmate/checkpoints/best_epoch02_acc0.9894.pth\n",
      "\n"
     ]
    },
    {
     "name": "stderr",
     "output_type": "stream",
     "text": [
      "[Train Epoch 3]: 100%|██████████| 349/349 [01:38<00:00,  3.55it/s]\n"
     ]
    },
    {
     "name": "stdout",
     "output_type": "stream",
     "text": [
      "Epoch 03 ▶ [Train] Loss: 0.0614, 질병Acc: 0.9881, 생장Acc: 0.9940\n",
      "[Val] 질병 Acc: 0.9907, 생장 Acc: 0.9885\n",
      "Saved new best model ▶ /home/kyun/25s/Capstone_EE/plantmate/checkpoints/best_epoch03_acc0.9896.pth\n",
      "\n"
     ]
    },
    {
     "name": "stderr",
     "output_type": "stream",
     "text": [
      "[Train Epoch 4]: 100%|██████████| 349/349 [01:45<00:00,  3.31it/s]\n"
     ]
    },
    {
     "name": "stdout",
     "output_type": "stream",
     "text": [
      "Epoch 04 ▶ [Train] Loss: 0.0392, 질병Acc: 0.9929, 생장Acc: 0.9962\n",
      "[Val] 질병 Acc: 0.9882, 생장 Acc: 0.9896\n",
      "\n"
     ]
    },
    {
     "name": "stderr",
     "output_type": "stream",
     "text": [
      "[Train Epoch 5]: 100%|██████████| 349/349 [01:46<00:00,  3.27it/s]\n"
     ]
    },
    {
     "name": "stdout",
     "output_type": "stream",
     "text": [
      "Epoch 05 ▶ [Train] Loss: 0.0259, 질병Acc: 0.9952, 생장Acc: 0.9978\n",
      "[Val] 질병 Acc: 0.9907, 생장 Acc: 0.9943\n",
      "Saved new best model ▶ /home/kyun/25s/Capstone_EE/plantmate/checkpoints/best_epoch05_acc0.9925.pth\n",
      "\n"
     ]
    },
    {
     "name": "stderr",
     "output_type": "stream",
     "text": [
      "[Train Epoch 6]: 100%|██████████| 349/349 [01:51<00:00,  3.14it/s]\n"
     ]
    },
    {
     "name": "stdout",
     "output_type": "stream",
     "text": [
      "Epoch 06 ▶ [Train] Loss: 0.0190, 질병Acc: 0.9961, 생장Acc: 0.9983\n",
      "[Val] 질병 Acc: 0.9896, 생장 Acc: 0.9921\n",
      "\n"
     ]
    },
    {
     "name": "stderr",
     "output_type": "stream",
     "text": [
      "[Train Epoch 7]: 100%|██████████| 349/349 [01:49<00:00,  3.20it/s]\n"
     ]
    },
    {
     "name": "stdout",
     "output_type": "stream",
     "text": [
      "Epoch 07 ▶ [Train] Loss: 0.0133, 질병Acc: 0.9973, 생장Acc: 0.9993\n",
      "[Val] 질병 Acc: 0.9910, 생장 Acc: 0.9950\n",
      "Saved new best model ▶ /home/kyun/25s/Capstone_EE/plantmate/checkpoints/best_epoch07_acc0.9930.pth\n",
      "\n"
     ]
    },
    {
     "name": "stderr",
     "output_type": "stream",
     "text": [
      "[Train Epoch 8]: 100%|██████████| 349/349 [01:51<00:00,  3.13it/s]\n"
     ]
    },
    {
     "name": "stdout",
     "output_type": "stream",
     "text": [
      "Epoch 08 ▶ [Train] Loss: 0.0118, 질병Acc: 0.9980, 생장Acc: 0.9987\n",
      "[Val] 질병 Acc: 0.9903, 생장 Acc: 0.9950\n",
      "\n"
     ]
    },
    {
     "name": "stderr",
     "output_type": "stream",
     "text": [
      "[Train Epoch 9]: 100%|██████████| 349/349 [01:49<00:00,  3.19it/s]\n"
     ]
    },
    {
     "name": "stdout",
     "output_type": "stream",
     "text": [
      "Epoch 09 ▶ [Train] Loss: 0.0083, 질병Acc: 0.9987, 생장Acc: 0.9994\n",
      "[Val] 질병 Acc: 0.9910, 생장 Acc: 0.9953\n",
      "Saved new best model ▶ /home/kyun/25s/Capstone_EE/plantmate/checkpoints/best_epoch09_acc0.9932.pth\n",
      "\n"
     ]
    },
    {
     "name": "stderr",
     "output_type": "stream",
     "text": [
      "[Train Epoch 10]: 100%|██████████| 349/349 [01:52<00:00,  3.09it/s]\n"
     ]
    },
    {
     "name": "stdout",
     "output_type": "stream",
     "text": [
      "Epoch 10 ▶ [Train] Loss: 0.0091, 질병Acc: 0.9986, 생장Acc: 0.9995\n",
      "[Val] 질병 Acc: 0.9910, 생장 Acc: 0.9953\n",
      "\n"
     ]
    },
    {
     "name": "stderr",
     "output_type": "stream",
     "text": [
      "[Train Epoch 11]: 100%|██████████| 349/349 [01:48<00:00,  3.22it/s]\n"
     ]
    },
    {
     "name": "stdout",
     "output_type": "stream",
     "text": [
      "Epoch 11 ▶ [Train] Loss: 0.0076, 질병Acc: 0.9987, 생장Acc: 0.9995\n",
      "[Val] 질병 Acc: 0.9914, 생장 Acc: 0.9950\n",
      "\n"
     ]
    },
    {
     "name": "stderr",
     "output_type": "stream",
     "text": [
      "[Train Epoch 12]: 100%|██████████| 349/349 [01:47<00:00,  3.24it/s]\n"
     ]
    },
    {
     "name": "stdout",
     "output_type": "stream",
     "text": [
      "Epoch 12 ▶ [Train] Loss: 0.0069, 질병Acc: 0.9990, 생장Acc: 0.9994\n",
      "[Val] 질병 Acc: 0.9907, 생장 Acc: 0.9946\n",
      "\n"
     ]
    },
    {
     "name": "stderr",
     "output_type": "stream",
     "text": [
      "[Train Epoch 13]: 100%|██████████| 349/349 [01:50<00:00,  3.16it/s]\n"
     ]
    },
    {
     "name": "stdout",
     "output_type": "stream",
     "text": [
      "Epoch 13 ▶ [Train] Loss: 0.0058, 질병Acc: 0.9992, 생장Acc: 0.9996\n",
      "[Val] 질병 Acc: 0.9892, 생장 Acc: 0.9964\n",
      "\n"
     ]
    },
    {
     "name": "stderr",
     "output_type": "stream",
     "text": [
      "[Train Epoch 14]: 100%|██████████| 349/349 [01:45<00:00,  3.31it/s]\n"
     ]
    },
    {
     "name": "stdout",
     "output_type": "stream",
     "text": [
      "Epoch 14 ▶ [Train] Loss: 0.0053, 질병Acc: 0.9994, 생장Acc: 0.9995\n",
      "[Val] 질병 Acc: 0.9910, 생장 Acc: 0.9946\n",
      "\n"
     ]
    },
    {
     "name": "stderr",
     "output_type": "stream",
     "text": [
      "[Train Epoch 15]: 100%|██████████| 349/349 [01:46<00:00,  3.27it/s]\n"
     ]
    },
    {
     "name": "stdout",
     "output_type": "stream",
     "text": [
      "Epoch 15 ▶ [Train] Loss: 0.0037, 질병Acc: 0.9994, 생장Acc: 0.9998\n",
      "[Val] 질병 Acc: 0.9910, 생장 Acc: 0.9946\n",
      "\n"
     ]
    },
    {
     "name": "stderr",
     "output_type": "stream",
     "text": [
      "[Train Epoch 16]: 100%|██████████| 349/349 [01:47<00:00,  3.23it/s]\n"
     ]
    },
    {
     "name": "stdout",
     "output_type": "stream",
     "text": [
      "Epoch 16 ▶ [Train] Loss: 0.0044, 질병Acc: 0.9995, 생장Acc: 0.9996\n",
      "[Val] 질병 Acc: 0.9907, 생장 Acc: 0.9946\n",
      "\n"
     ]
    },
    {
     "name": "stderr",
     "output_type": "stream",
     "text": [
      "[Train Epoch 17]: 100%|██████████| 349/349 [01:45<00:00,  3.32it/s]\n"
     ]
    },
    {
     "name": "stdout",
     "output_type": "stream",
     "text": [
      "Epoch 17 ▶ [Train] Loss: 0.0032, 질병Acc: 0.9996, 생장Acc: 0.9996\n",
      "[Val] 질병 Acc: 0.9896, 생장 Acc: 0.9953\n",
      "\n"
     ]
    },
    {
     "name": "stderr",
     "output_type": "stream",
     "text": [
      "[Train Epoch 18]: 100%|██████████| 349/349 [01:45<00:00,  3.31it/s]\n"
     ]
    },
    {
     "name": "stdout",
     "output_type": "stream",
     "text": [
      "Epoch 18 ▶ [Train] Loss: 0.0027, 질병Acc: 0.9996, 생장Acc: 0.9998\n"
     ]
    },
    {
     "ename": "KeyboardInterrupt",
     "evalue": "",
     "output_type": "error",
     "traceback": [
      "\u001b[0;31m---------------------------------------------------------------------------\u001b[0m",
      "\u001b[0;31mKeyboardInterrupt\u001b[0m                         Traceback (most recent call last)",
      "Cell \u001b[0;32mIn[6], line 38\u001b[0m\n\u001b[1;32m     36\u001b[0m correct_d \u001b[38;5;241m=\u001b[39m correct_g \u001b[38;5;241m=\u001b[39m total_samples \u001b[38;5;241m=\u001b[39m \u001b[38;5;241m0\u001b[39m\n\u001b[1;32m     37\u001b[0m \u001b[38;5;28;01mwith\u001b[39;00m torch\u001b[38;5;241m.\u001b[39mno_grad():\n\u001b[0;32m---> 38\u001b[0m     \u001b[38;5;28;01mfor\u001b[39;00m imgs, d_labels, g_labels \u001b[38;5;129;01min\u001b[39;00m val_loader:\n\u001b[1;32m     39\u001b[0m         imgs, d_labels, g_labels \u001b[38;5;241m=\u001b[39m imgs\u001b[38;5;241m.\u001b[39mto(DEVICE), d_labels\u001b[38;5;241m.\u001b[39mto(DEVICE), g_labels\u001b[38;5;241m.\u001b[39mto(DEVICE)\n\u001b[1;32m     40\u001b[0m         d_logits, g_logits \u001b[38;5;241m=\u001b[39m model(imgs)\n",
      "File \u001b[0;32m~/miniconda3/envs/plantmate/lib/python3.10/site-packages/torch/utils/data/dataloader.py:633\u001b[0m, in \u001b[0;36m_BaseDataLoaderIter.__next__\u001b[0;34m(self)\u001b[0m\n\u001b[1;32m    630\u001b[0m \u001b[38;5;28;01mif\u001b[39;00m \u001b[38;5;28mself\u001b[39m\u001b[38;5;241m.\u001b[39m_sampler_iter \u001b[38;5;129;01mis\u001b[39;00m \u001b[38;5;28;01mNone\u001b[39;00m:\n\u001b[1;32m    631\u001b[0m     \u001b[38;5;66;03m# TODO(https://github.com/pytorch/pytorch/issues/76750)\u001b[39;00m\n\u001b[1;32m    632\u001b[0m     \u001b[38;5;28mself\u001b[39m\u001b[38;5;241m.\u001b[39m_reset()  \u001b[38;5;66;03m# type: ignore[call-arg]\u001b[39;00m\n\u001b[0;32m--> 633\u001b[0m data \u001b[38;5;241m=\u001b[39m \u001b[38;5;28;43mself\u001b[39;49m\u001b[38;5;241;43m.\u001b[39;49m\u001b[43m_next_data\u001b[49m\u001b[43m(\u001b[49m\u001b[43m)\u001b[49m\n\u001b[1;32m    634\u001b[0m \u001b[38;5;28mself\u001b[39m\u001b[38;5;241m.\u001b[39m_num_yielded \u001b[38;5;241m+\u001b[39m\u001b[38;5;241m=\u001b[39m \u001b[38;5;241m1\u001b[39m\n\u001b[1;32m    635\u001b[0m \u001b[38;5;28;01mif\u001b[39;00m \u001b[38;5;28mself\u001b[39m\u001b[38;5;241m.\u001b[39m_dataset_kind \u001b[38;5;241m==\u001b[39m _DatasetKind\u001b[38;5;241m.\u001b[39mIterable \u001b[38;5;129;01mand\u001b[39;00m \\\n\u001b[1;32m    636\u001b[0m         \u001b[38;5;28mself\u001b[39m\u001b[38;5;241m.\u001b[39m_IterableDataset_len_called \u001b[38;5;129;01mis\u001b[39;00m \u001b[38;5;129;01mnot\u001b[39;00m \u001b[38;5;28;01mNone\u001b[39;00m \u001b[38;5;129;01mand\u001b[39;00m \\\n\u001b[1;32m    637\u001b[0m         \u001b[38;5;28mself\u001b[39m\u001b[38;5;241m.\u001b[39m_num_yielded \u001b[38;5;241m>\u001b[39m \u001b[38;5;28mself\u001b[39m\u001b[38;5;241m.\u001b[39m_IterableDataset_len_called:\n",
      "File \u001b[0;32m~/miniconda3/envs/plantmate/lib/python3.10/site-packages/torch/utils/data/dataloader.py:677\u001b[0m, in \u001b[0;36m_SingleProcessDataLoaderIter._next_data\u001b[0;34m(self)\u001b[0m\n\u001b[1;32m    675\u001b[0m \u001b[38;5;28;01mdef\u001b[39;00m\u001b[38;5;250m \u001b[39m\u001b[38;5;21m_next_data\u001b[39m(\u001b[38;5;28mself\u001b[39m):\n\u001b[1;32m    676\u001b[0m     index \u001b[38;5;241m=\u001b[39m \u001b[38;5;28mself\u001b[39m\u001b[38;5;241m.\u001b[39m_next_index()  \u001b[38;5;66;03m# may raise StopIteration\u001b[39;00m\n\u001b[0;32m--> 677\u001b[0m     data \u001b[38;5;241m=\u001b[39m \u001b[38;5;28;43mself\u001b[39;49m\u001b[38;5;241;43m.\u001b[39;49m\u001b[43m_dataset_fetcher\u001b[49m\u001b[38;5;241;43m.\u001b[39;49m\u001b[43mfetch\u001b[49m\u001b[43m(\u001b[49m\u001b[43mindex\u001b[49m\u001b[43m)\u001b[49m  \u001b[38;5;66;03m# may raise StopIteration\u001b[39;00m\n\u001b[1;32m    678\u001b[0m     \u001b[38;5;28;01mif\u001b[39;00m \u001b[38;5;28mself\u001b[39m\u001b[38;5;241m.\u001b[39m_pin_memory:\n\u001b[1;32m    679\u001b[0m         data \u001b[38;5;241m=\u001b[39m _utils\u001b[38;5;241m.\u001b[39mpin_memory\u001b[38;5;241m.\u001b[39mpin_memory(data, \u001b[38;5;28mself\u001b[39m\u001b[38;5;241m.\u001b[39m_pin_memory_device)\n",
      "File \u001b[0;32m~/miniconda3/envs/plantmate/lib/python3.10/site-packages/torch/utils/data/_utils/fetch.py:51\u001b[0m, in \u001b[0;36m_MapDatasetFetcher.fetch\u001b[0;34m(self, possibly_batched_index)\u001b[0m\n\u001b[1;32m     49\u001b[0m         data \u001b[38;5;241m=\u001b[39m \u001b[38;5;28mself\u001b[39m\u001b[38;5;241m.\u001b[39mdataset\u001b[38;5;241m.\u001b[39m__getitems__(possibly_batched_index)\n\u001b[1;32m     50\u001b[0m     \u001b[38;5;28;01melse\u001b[39;00m:\n\u001b[0;32m---> 51\u001b[0m         data \u001b[38;5;241m=\u001b[39m [\u001b[38;5;28mself\u001b[39m\u001b[38;5;241m.\u001b[39mdataset[idx] \u001b[38;5;28;01mfor\u001b[39;00m idx \u001b[38;5;129;01min\u001b[39;00m possibly_batched_index]\n\u001b[1;32m     52\u001b[0m \u001b[38;5;28;01melse\u001b[39;00m:\n\u001b[1;32m     53\u001b[0m     data \u001b[38;5;241m=\u001b[39m \u001b[38;5;28mself\u001b[39m\u001b[38;5;241m.\u001b[39mdataset[possibly_batched_index]\n",
      "File \u001b[0;32m~/miniconda3/envs/plantmate/lib/python3.10/site-packages/torch/utils/data/_utils/fetch.py:51\u001b[0m, in \u001b[0;36m<listcomp>\u001b[0;34m(.0)\u001b[0m\n\u001b[1;32m     49\u001b[0m         data \u001b[38;5;241m=\u001b[39m \u001b[38;5;28mself\u001b[39m\u001b[38;5;241m.\u001b[39mdataset\u001b[38;5;241m.\u001b[39m__getitems__(possibly_batched_index)\n\u001b[1;32m     50\u001b[0m     \u001b[38;5;28;01melse\u001b[39;00m:\n\u001b[0;32m---> 51\u001b[0m         data \u001b[38;5;241m=\u001b[39m [\u001b[38;5;28;43mself\u001b[39;49m\u001b[38;5;241;43m.\u001b[39;49m\u001b[43mdataset\u001b[49m\u001b[43m[\u001b[49m\u001b[43midx\u001b[49m\u001b[43m]\u001b[49m \u001b[38;5;28;01mfor\u001b[39;00m idx \u001b[38;5;129;01min\u001b[39;00m possibly_batched_index]\n\u001b[1;32m     52\u001b[0m \u001b[38;5;28;01melse\u001b[39;00m:\n\u001b[1;32m     53\u001b[0m     data \u001b[38;5;241m=\u001b[39m \u001b[38;5;28mself\u001b[39m\u001b[38;5;241m.\u001b[39mdataset[possibly_batched_index]\n",
      "File \u001b[0;32m~/miniconda3/envs/plantmate/lib/python3.10/site-packages/torch/utils/data/dataset.py:298\u001b[0m, in \u001b[0;36mSubset.__getitem__\u001b[0;34m(self, idx)\u001b[0m\n\u001b[1;32m    296\u001b[0m \u001b[38;5;28;01mif\u001b[39;00m \u001b[38;5;28misinstance\u001b[39m(idx, \u001b[38;5;28mlist\u001b[39m):\n\u001b[1;32m    297\u001b[0m     \u001b[38;5;28;01mreturn\u001b[39;00m \u001b[38;5;28mself\u001b[39m\u001b[38;5;241m.\u001b[39mdataset[[\u001b[38;5;28mself\u001b[39m\u001b[38;5;241m.\u001b[39mindices[i] \u001b[38;5;28;01mfor\u001b[39;00m i \u001b[38;5;129;01min\u001b[39;00m idx]]\n\u001b[0;32m--> 298\u001b[0m \u001b[38;5;28;01mreturn\u001b[39;00m \u001b[38;5;28;43mself\u001b[39;49m\u001b[38;5;241;43m.\u001b[39;49m\u001b[43mdataset\u001b[49m\u001b[43m[\u001b[49m\u001b[38;5;28;43mself\u001b[39;49m\u001b[38;5;241;43m.\u001b[39;49m\u001b[43mindices\u001b[49m\u001b[43m[\u001b[49m\u001b[43midx\u001b[49m\u001b[43m]\u001b[49m\u001b[43m]\u001b[49m\n",
      "File \u001b[0;32m~/25s/Capstone_EE/plantmate/dataset.py:23\u001b[0m, in \u001b[0;36mPlantDataset.__getitem__\u001b[0;34m(self, idx)\u001b[0m\n\u001b[1;32m     21\u001b[0m \u001b[38;5;66;03m# 이미지 로드 (이미 1280×720으로 준비됨)\u001b[39;00m\n\u001b[1;32m     22\u001b[0m img_path \u001b[38;5;241m=\u001b[39m os\u001b[38;5;241m.\u001b[39mpath\u001b[38;5;241m.\u001b[39mjoin(\u001b[38;5;28mself\u001b[39m\u001b[38;5;241m.\u001b[39mimg_dir, img_name)\n\u001b[0;32m---> 23\u001b[0m img \u001b[38;5;241m=\u001b[39m \u001b[43mImage\u001b[49m\u001b[38;5;241;43m.\u001b[39;49m\u001b[43mopen\u001b[49m\u001b[43m(\u001b[49m\u001b[43mimg_path\u001b[49m\u001b[43m)\u001b[49m\u001b[38;5;241;43m.\u001b[39;49m\u001b[43mconvert\u001b[49m\u001b[43m(\u001b[49m\u001b[38;5;124;43m'\u001b[39;49m\u001b[38;5;124;43mRGB\u001b[39;49m\u001b[38;5;124;43m'\u001b[39;49m\u001b[43m)\u001b[49m\n\u001b[1;32m     25\u001b[0m \u001b[38;5;66;03m# Transform 적용\u001b[39;00m\n\u001b[1;32m     26\u001b[0m \u001b[38;5;28;01mif\u001b[39;00m \u001b[38;5;28mself\u001b[39m\u001b[38;5;241m.\u001b[39mtransform:\n",
      "File \u001b[0;32m~/miniconda3/envs/plantmate/lib/python3.10/site-packages/PIL/Image.py:982\u001b[0m, in \u001b[0;36mImage.convert\u001b[0;34m(self, mode, matrix, dither, palette, colors)\u001b[0m\n\u001b[1;32m    979\u001b[0m \u001b[38;5;28;01mif\u001b[39;00m mode \u001b[38;5;129;01min\u001b[39;00m (\u001b[38;5;124m\"\u001b[39m\u001b[38;5;124mBGR;15\u001b[39m\u001b[38;5;124m\"\u001b[39m, \u001b[38;5;124m\"\u001b[39m\u001b[38;5;124mBGR;16\u001b[39m\u001b[38;5;124m\"\u001b[39m, \u001b[38;5;124m\"\u001b[39m\u001b[38;5;124mBGR;24\u001b[39m\u001b[38;5;124m\"\u001b[39m):\n\u001b[1;32m    980\u001b[0m     deprecate(mode, \u001b[38;5;241m12\u001b[39m)\n\u001b[0;32m--> 982\u001b[0m \u001b[38;5;28;43mself\u001b[39;49m\u001b[38;5;241;43m.\u001b[39;49m\u001b[43mload\u001b[49m\u001b[43m(\u001b[49m\u001b[43m)\u001b[49m\n\u001b[1;32m    984\u001b[0m has_transparency \u001b[38;5;241m=\u001b[39m \u001b[38;5;124m\"\u001b[39m\u001b[38;5;124mtransparency\u001b[39m\u001b[38;5;124m\"\u001b[39m \u001b[38;5;129;01min\u001b[39;00m \u001b[38;5;28mself\u001b[39m\u001b[38;5;241m.\u001b[39minfo\n\u001b[1;32m    985\u001b[0m \u001b[38;5;28;01mif\u001b[39;00m \u001b[38;5;129;01mnot\u001b[39;00m mode \u001b[38;5;129;01mand\u001b[39;00m \u001b[38;5;28mself\u001b[39m\u001b[38;5;241m.\u001b[39mmode \u001b[38;5;241m==\u001b[39m \u001b[38;5;124m\"\u001b[39m\u001b[38;5;124mP\u001b[39m\u001b[38;5;124m\"\u001b[39m:\n\u001b[1;32m    986\u001b[0m     \u001b[38;5;66;03m# determine default mode\u001b[39;00m\n",
      "File \u001b[0;32m~/miniconda3/envs/plantmate/lib/python3.10/site-packages/PIL/ImageFile.py:389\u001b[0m, in \u001b[0;36mImageFile.load\u001b[0;34m(self)\u001b[0m\n\u001b[1;32m    386\u001b[0m         \u001b[38;5;28;01mraise\u001b[39;00m \u001b[38;5;167;01mOSError\u001b[39;00m(msg)\n\u001b[1;32m    388\u001b[0m b \u001b[38;5;241m=\u001b[39m b \u001b[38;5;241m+\u001b[39m s\n\u001b[0;32m--> 389\u001b[0m n, err_code \u001b[38;5;241m=\u001b[39m \u001b[43mdecoder\u001b[49m\u001b[38;5;241;43m.\u001b[39;49m\u001b[43mdecode\u001b[49m\u001b[43m(\u001b[49m\u001b[43mb\u001b[49m\u001b[43m)\u001b[49m\n\u001b[1;32m    390\u001b[0m \u001b[38;5;28;01mif\u001b[39;00m n \u001b[38;5;241m<\u001b[39m \u001b[38;5;241m0\u001b[39m:\n\u001b[1;32m    391\u001b[0m     \u001b[38;5;28;01mbreak\u001b[39;00m\n",
      "\u001b[0;31mKeyboardInterrupt\u001b[0m: "
     ]
    }
   ],
   "source": [
    "# ── 체크포인트용 변수 ───────────────────────────────────────\n",
    "best_score = 0.0  # 최고 검증 정확도 평균\n",
    "\n",
    "# ── 학습 & 검증 루프 ────────────────────────────────────────\n",
    "for epoch in range(1, EPOCHS+1):\n",
    "    # ----- train -----\n",
    "    model.train()\n",
    "    total_loss = 0.0\n",
    "    correct_d = correct_g = total_samples = 0\n",
    "\n",
    "    for imgs, d_labels, g_labels in tqdm(train_loader, desc=f\"[Train Epoch {epoch}]\"):\n",
    "        imgs, d_labels, g_labels = imgs.to(DEVICE), d_labels.to(DEVICE), g_labels.to(DEVICE)\n",
    "        d_logits, g_logits = model(imgs)\n",
    "\n",
    "        loss = criterion(d_logits, d_labels) + criterion(g_logits, g_labels)\n",
    "        optimizer.zero_grad()\n",
    "        loss.backward()\n",
    "        optimizer.step()\n",
    "\n",
    "        total_loss    += loss.item()\n",
    "        _, d_pred     = d_logits.max(1)\n",
    "        _, g_pred     = g_logits.max(1)\n",
    "        correct_d    += (d_pred == d_labels).sum().item()\n",
    "        correct_g    += (g_pred == g_labels).sum().item()\n",
    "        total_samples += imgs.size(0)\n",
    "\n",
    "    scheduler.step()\n",
    "\n",
    "    train_loss   = total_loss / len(train_loader)\n",
    "    train_acc_d  = correct_d / total_samples\n",
    "    train_acc_g  = correct_g / total_samples\n",
    "    print(f\"Epoch {epoch:02d} ▶ [Train] Loss: {train_loss:.4f}, 질병Acc: {train_acc_d:.4f}, 생장Acc: {train_acc_g:.4f}\")\n",
    "\n",
    "    # ----- validation -----\n",
    "    model.eval()\n",
    "    correct_d = correct_g = total_samples = 0\n",
    "    with torch.no_grad():\n",
    "        for imgs, d_labels, g_labels in tqdm(val_loader):\n",
    "            imgs, d_labels, g_labels = imgs.to(DEVICE), d_labels.to(DEVICE), g_labels.to(DEVICE)\n",
    "            d_logits, g_logits = model(imgs)\n",
    "            _, d_pred = d_logits.max(1)\n",
    "            _, g_pred = g_logits.max(1)\n",
    "            correct_d    += (d_pred == d_labels).sum().item()\n",
    "            correct_g    += (g_pred == g_labels).sum().item()\n",
    "            total_samples += imgs.size(0)\n",
    "\n",
    "    val_acc_d = correct_d / total_samples\n",
    "    val_acc_g = correct_g / total_samples\n",
    "    print(f\"[Val] 질병 Acc: {val_acc_d:.4f}, 생장 Acc: {val_acc_g:.4f}\")\n",
    "\n",
    "    # ----- checkpoint 저장 -----\n",
    "    avg_val_acc = (val_acc_d + val_acc_g) / 2\n",
    "    if avg_val_acc > best_score:\n",
    "        best_score = avg_val_acc\n",
    "        ckpt_path = os.path.join(CHECKPOINT_DIR, f'best_epoch{epoch:02d}_acc{avg_val_acc:.4f}.pth')\n",
    "        torch.save(model.state_dict(), ckpt_path)\n",
    "        print(f\"Saved new best model ▶ {ckpt_path}\\n\")\n",
    "    else:\n",
    "        print()  # 줄바꿈"
   ]
  }
 ],
 "metadata": {
  "kernelspec": {
   "display_name": "Python 3",
   "language": "python",
   "name": "python3"
  },
  "language_info": {
   "codemirror_mode": {
    "name": "ipython",
    "version": 3
   },
   "file_extension": ".py",
   "mimetype": "text/x-python",
   "name": "python",
   "nbconvert_exporter": "python",
   "pygments_lexer": "ipython3",
   "version": "3.10.16"
  }
 },
 "nbformat": 4,
 "nbformat_minor": 5
}
